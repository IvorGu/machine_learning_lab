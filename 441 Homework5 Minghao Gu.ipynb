{
 "cells": [
  {
   "cell_type": "markdown",
   "metadata": {
    "id": "7ywSRtNI4s5h"
   },
   "source": [
    "# 0.) Import the Credit Card Fraud Data From CCLE"
   ]
  },
  {
   "cell_type": "code",
   "execution_count": 1,
   "metadata": {
    "id": "nsG1QV154GYZ"
   },
   "outputs": [],
   "source": [
    "import pandas as pd\n",
    "#from google.colab import drive\n",
    "import matplotlib.pyplot as plt\n",
    "import numpy as np"
   ]
  },
  {
   "cell_type": "code",
   "execution_count": 2,
   "metadata": {
    "colab": {
     "base_uri": "https://localhost:8080/"
    },
    "id": "Iku0T8Ou4Lcu",
    "outputId": "c533459a-89a7-4d6f-978b-ea2295ace9e7"
   },
   "outputs": [],
   "source": [
    "#drive.mount('/content/gdrive/', force_remount = True)"
   ]
  },
  {
   "cell_type": "code",
   "execution_count": 3,
   "metadata": {
    "id": "KJQfo8mz43Kz"
   },
   "outputs": [],
   "source": [
    "df = pd.read_csv(\"fraudTest.csv\")"
   ]
  },
  {
   "cell_type": "code",
   "execution_count": 4,
   "metadata": {
    "colab": {
     "base_uri": "https://localhost:8080/",
     "height": 481
    },
    "id": "mKWSRv-q98wE",
    "outputId": "29838bae-3f83-4216-f0da-f7ea7ee6ee69"
   },
   "outputs": [
    {
     "data": {
      "text/html": [
       "<div>\n",
       "<style scoped>\n",
       "    .dataframe tbody tr th:only-of-type {\n",
       "        vertical-align: middle;\n",
       "    }\n",
       "\n",
       "    .dataframe tbody tr th {\n",
       "        vertical-align: top;\n",
       "    }\n",
       "\n",
       "    .dataframe thead th {\n",
       "        text-align: right;\n",
       "    }\n",
       "</style>\n",
       "<table border=\"1\" class=\"dataframe\">\n",
       "  <thead>\n",
       "    <tr style=\"text-align: right;\">\n",
       "      <th></th>\n",
       "      <th>Unnamed: 0</th>\n",
       "      <th>trans_date_trans_time</th>\n",
       "      <th>cc_num</th>\n",
       "      <th>merchant</th>\n",
       "      <th>category</th>\n",
       "      <th>amt</th>\n",
       "      <th>first</th>\n",
       "      <th>last</th>\n",
       "      <th>gender</th>\n",
       "      <th>street</th>\n",
       "      <th>...</th>\n",
       "      <th>lat</th>\n",
       "      <th>long</th>\n",
       "      <th>city_pop</th>\n",
       "      <th>job</th>\n",
       "      <th>dob</th>\n",
       "      <th>trans_num</th>\n",
       "      <th>unix_time</th>\n",
       "      <th>merch_lat</th>\n",
       "      <th>merch_long</th>\n",
       "      <th>is_fraud</th>\n",
       "    </tr>\n",
       "  </thead>\n",
       "  <tbody>\n",
       "    <tr>\n",
       "      <th>0</th>\n",
       "      <td>0</td>\n",
       "      <td>2020-06-21 12:14:25</td>\n",
       "      <td>2291163933867244</td>\n",
       "      <td>fraud_Kirlin and Sons</td>\n",
       "      <td>personal_care</td>\n",
       "      <td>2.86</td>\n",
       "      <td>Jeff</td>\n",
       "      <td>Elliott</td>\n",
       "      <td>M</td>\n",
       "      <td>351 Darlene Green</td>\n",
       "      <td>...</td>\n",
       "      <td>33.9659</td>\n",
       "      <td>-80.9355</td>\n",
       "      <td>333497</td>\n",
       "      <td>Mechanical engineer</td>\n",
       "      <td>1968-03-19</td>\n",
       "      <td>2da90c7d74bd46a0caf3777415b3ebd3</td>\n",
       "      <td>1371816865</td>\n",
       "      <td>33.986391</td>\n",
       "      <td>-81.200714</td>\n",
       "      <td>0</td>\n",
       "    </tr>\n",
       "    <tr>\n",
       "      <th>1</th>\n",
       "      <td>1</td>\n",
       "      <td>2020-06-21 12:14:33</td>\n",
       "      <td>3573030041201292</td>\n",
       "      <td>fraud_Sporer-Keebler</td>\n",
       "      <td>personal_care</td>\n",
       "      <td>29.84</td>\n",
       "      <td>Joanne</td>\n",
       "      <td>Williams</td>\n",
       "      <td>F</td>\n",
       "      <td>3638 Marsh Union</td>\n",
       "      <td>...</td>\n",
       "      <td>40.3207</td>\n",
       "      <td>-110.4360</td>\n",
       "      <td>302</td>\n",
       "      <td>Sales professional, IT</td>\n",
       "      <td>1990-01-17</td>\n",
       "      <td>324cc204407e99f51b0d6ca0055005e7</td>\n",
       "      <td>1371816873</td>\n",
       "      <td>39.450498</td>\n",
       "      <td>-109.960431</td>\n",
       "      <td>0</td>\n",
       "    </tr>\n",
       "    <tr>\n",
       "      <th>2</th>\n",
       "      <td>2</td>\n",
       "      <td>2020-06-21 12:14:53</td>\n",
       "      <td>3598215285024754</td>\n",
       "      <td>fraud_Swaniawski, Nitzsche and Welch</td>\n",
       "      <td>health_fitness</td>\n",
       "      <td>41.28</td>\n",
       "      <td>Ashley</td>\n",
       "      <td>Lopez</td>\n",
       "      <td>F</td>\n",
       "      <td>9333 Valentine Point</td>\n",
       "      <td>...</td>\n",
       "      <td>40.6729</td>\n",
       "      <td>-73.5365</td>\n",
       "      <td>34496</td>\n",
       "      <td>Librarian, public</td>\n",
       "      <td>1970-10-21</td>\n",
       "      <td>c81755dbbbea9d5c77f094348a7579be</td>\n",
       "      <td>1371816893</td>\n",
       "      <td>40.495810</td>\n",
       "      <td>-74.196111</td>\n",
       "      <td>0</td>\n",
       "    </tr>\n",
       "    <tr>\n",
       "      <th>3</th>\n",
       "      <td>3</td>\n",
       "      <td>2020-06-21 12:15:15</td>\n",
       "      <td>3591919803438423</td>\n",
       "      <td>fraud_Haley Group</td>\n",
       "      <td>misc_pos</td>\n",
       "      <td>60.05</td>\n",
       "      <td>Brian</td>\n",
       "      <td>Williams</td>\n",
       "      <td>M</td>\n",
       "      <td>32941 Krystal Mill Apt. 552</td>\n",
       "      <td>...</td>\n",
       "      <td>28.5697</td>\n",
       "      <td>-80.8191</td>\n",
       "      <td>54767</td>\n",
       "      <td>Set designer</td>\n",
       "      <td>1987-07-25</td>\n",
       "      <td>2159175b9efe66dc301f149d3d5abf8c</td>\n",
       "      <td>1371816915</td>\n",
       "      <td>28.812398</td>\n",
       "      <td>-80.883061</td>\n",
       "      <td>0</td>\n",
       "    </tr>\n",
       "    <tr>\n",
       "      <th>4</th>\n",
       "      <td>4</td>\n",
       "      <td>2020-06-21 12:15:17</td>\n",
       "      <td>3526826139003047</td>\n",
       "      <td>fraud_Johnston-Casper</td>\n",
       "      <td>travel</td>\n",
       "      <td>3.19</td>\n",
       "      <td>Nathan</td>\n",
       "      <td>Massey</td>\n",
       "      <td>M</td>\n",
       "      <td>5783 Evan Roads Apt. 465</td>\n",
       "      <td>...</td>\n",
       "      <td>44.2529</td>\n",
       "      <td>-85.0170</td>\n",
       "      <td>1126</td>\n",
       "      <td>Furniture designer</td>\n",
       "      <td>1955-07-06</td>\n",
       "      <td>57ff021bd3f328f8738bb535c302a31b</td>\n",
       "      <td>1371816917</td>\n",
       "      <td>44.959148</td>\n",
       "      <td>-85.884734</td>\n",
       "      <td>0</td>\n",
       "    </tr>\n",
       "  </tbody>\n",
       "</table>\n",
       "<p>5 rows × 23 columns</p>\n",
       "</div>"
      ],
      "text/plain": [
       "   Unnamed: 0 trans_date_trans_time            cc_num  \\\n",
       "0           0   2020-06-21 12:14:25  2291163933867244   \n",
       "1           1   2020-06-21 12:14:33  3573030041201292   \n",
       "2           2   2020-06-21 12:14:53  3598215285024754   \n",
       "3           3   2020-06-21 12:15:15  3591919803438423   \n",
       "4           4   2020-06-21 12:15:17  3526826139003047   \n",
       "\n",
       "                               merchant        category    amt   first  \\\n",
       "0                 fraud_Kirlin and Sons   personal_care   2.86    Jeff   \n",
       "1                  fraud_Sporer-Keebler   personal_care  29.84  Joanne   \n",
       "2  fraud_Swaniawski, Nitzsche and Welch  health_fitness  41.28  Ashley   \n",
       "3                     fraud_Haley Group        misc_pos  60.05   Brian   \n",
       "4                 fraud_Johnston-Casper          travel   3.19  Nathan   \n",
       "\n",
       "       last gender                       street  ...      lat      long  \\\n",
       "0   Elliott      M            351 Darlene Green  ...  33.9659  -80.9355   \n",
       "1  Williams      F             3638 Marsh Union  ...  40.3207 -110.4360   \n",
       "2     Lopez      F         9333 Valentine Point  ...  40.6729  -73.5365   \n",
       "3  Williams      M  32941 Krystal Mill Apt. 552  ...  28.5697  -80.8191   \n",
       "4    Massey      M     5783 Evan Roads Apt. 465  ...  44.2529  -85.0170   \n",
       "\n",
       "   city_pop                     job         dob  \\\n",
       "0    333497     Mechanical engineer  1968-03-19   \n",
       "1       302  Sales professional, IT  1990-01-17   \n",
       "2     34496       Librarian, public  1970-10-21   \n",
       "3     54767            Set designer  1987-07-25   \n",
       "4      1126      Furniture designer  1955-07-06   \n",
       "\n",
       "                          trans_num   unix_time  merch_lat  merch_long  \\\n",
       "0  2da90c7d74bd46a0caf3777415b3ebd3  1371816865  33.986391  -81.200714   \n",
       "1  324cc204407e99f51b0d6ca0055005e7  1371816873  39.450498 -109.960431   \n",
       "2  c81755dbbbea9d5c77f094348a7579be  1371816893  40.495810  -74.196111   \n",
       "3  2159175b9efe66dc301f149d3d5abf8c  1371816915  28.812398  -80.883061   \n",
       "4  57ff021bd3f328f8738bb535c302a31b  1371816917  44.959148  -85.884734   \n",
       "\n",
       "   is_fraud  \n",
       "0         0  \n",
       "1         0  \n",
       "2         0  \n",
       "3         0  \n",
       "4         0  \n",
       "\n",
       "[5 rows x 23 columns]"
      ]
     },
     "execution_count": 4,
     "metadata": {},
     "output_type": "execute_result"
    }
   ],
   "source": [
    "df.head()"
   ]
  },
  {
   "cell_type": "code",
   "execution_count": 5,
   "metadata": {
    "colab": {
     "base_uri": "https://localhost:8080/"
    },
    "id": "2_YuJa4IFKda",
    "outputId": "7e387d76-2dd6-472c-d598-5994ef2b9fda"
   },
   "outputs": [
    {
     "name": "stderr",
     "output_type": "stream",
     "text": [
      "C:\\Users\\10497\\AppData\\Local\\Temp\\ipykernel_321864\\2282180580.py:3: SettingWithCopyWarning: \n",
      "A value is trying to be set on a copy of a slice from a DataFrame.\n",
      "Try using .loc[row_indexer,col_indexer] = value instead\n",
      "\n",
      "See the caveats in the documentation: https://pandas.pydata.org/pandas-docs/stable/user_guide/indexing.html#returning-a-view-versus-a-copy\n",
      "  df_select[\"trans_date_trans_time\"] = pd.to_datetime(df_select[\"trans_date_trans_time\"])\n",
      "C:\\Users\\10497\\AppData\\Local\\Temp\\ipykernel_321864\\2282180580.py:4: SettingWithCopyWarning: \n",
      "A value is trying to be set on a copy of a slice from a DataFrame.\n",
      "Try using .loc[row_indexer,col_indexer] = value instead\n",
      "\n",
      "See the caveats in the documentation: https://pandas.pydata.org/pandas-docs/stable/user_guide/indexing.html#returning-a-view-versus-a-copy\n",
      "  df_select[\"time_var\"] = [i.second for i in df_select[\"trans_date_trans_time\"]]\n"
     ]
    }
   ],
   "source": [
    "df_select = df[[\"trans_date_trans_time\", \"category\", \"amt\", \"city_pop\", \"is_fraud\"]]\n",
    "\n",
    "df_select[\"trans_date_trans_time\"] = pd.to_datetime(df_select[\"trans_date_trans_time\"])\n",
    "df_select[\"time_var\"] = [i.second for i in df_select[\"trans_date_trans_time\"]]\n",
    "\n",
    "X = pd.get_dummies(df_select, [\"category\"]).drop([\"trans_date_trans_time\", \"is_fraud\"], axis = 1)\n",
    "y = df[\"is_fraud\"]"
   ]
  },
  {
   "cell_type": "markdown",
   "metadata": {
    "id": "8VsnpGe9-B3p"
   },
   "source": [
    "# 1.) Use scikit learn preprocessing to split the data into 70/30 in out of sample"
   ]
  },
  {
   "cell_type": "code",
   "execution_count": 6,
   "metadata": {
    "id": "1tpCDMW198ym"
   },
   "outputs": [],
   "source": [
    "from sklearn.model_selection import train_test_split\n",
    "from sklearn.preprocessing import StandardScaler"
   ]
  },
  {
   "cell_type": "code",
   "execution_count": 7,
   "metadata": {
    "id": "FZvnpERK981d"
   },
   "outputs": [],
   "source": [
    "X_train, X_test, y_train, y_test = train_test_split(X, y, test_size = .3)"
   ]
  },
  {
   "cell_type": "code",
   "execution_count": 8,
   "metadata": {
    "id": "JvCzIdgO983i"
   },
   "outputs": [],
   "source": [
    "X_test, X_holdout, y_test, y_holdout = train_test_split(X_test, y_test, test_size = .5)"
   ]
  },
  {
   "cell_type": "code",
   "execution_count": 9,
   "metadata": {
    "id": "f7APv9N3986a"
   },
   "outputs": [],
   "source": [
    "scaler = StandardScaler()\n",
    "X_train = scaler.fit_transform(X_train)\n",
    "X_test = scaler.transform(X_test)\n",
    "X_holdout = scaler.transform(X_holdout)"
   ]
  },
  {
   "cell_type": "markdown",
   "metadata": {
    "id": "lbkpNPyN-Gnk"
   },
   "source": [
    "# 2.) Make three sets of training data (Oversample, Undersample and SMOTE)"
   ]
  },
  {
   "cell_type": "code",
   "execution_count": 10,
   "metadata": {
    "id": "gTTVciVkqopH"
   },
   "outputs": [],
   "source": [
    "from imblearn.over_sampling import RandomOverSampler\n",
    "from imblearn.under_sampling import RandomUnderSampler\n",
    "from imblearn.over_sampling import SMOTE"
   ]
  },
  {
   "cell_type": "code",
   "execution_count": 11,
   "metadata": {
    "id": "gG88uxbiV4lZ"
   },
   "outputs": [],
   "source": [
    "ros = RandomOverSampler()\n",
    "over_X, over_y = ros.fit_resample(X_train, y_train)\n",
    "\n",
    "rus = RandomUnderSampler()\n",
    "under_X, under_y = rus.fit_resample(X_train, y_train)\n",
    "\n",
    "smote = SMOTE()\n",
    "smote_X, smote_y = smote.fit_resample(X_train, y_train)"
   ]
  },
  {
   "cell_type": "markdown",
   "metadata": {
    "id": "bIJx2jvD-KEI"
   },
   "source": [
    "# 3.) Train three logistic regression models"
   ]
  },
  {
   "cell_type": "code",
   "execution_count": 12,
   "metadata": {
    "id": "QhVMq92zvz4s"
   },
   "outputs": [],
   "source": [
    "from sklearn.linear_model import LogisticRegression"
   ]
  },
  {
   "cell_type": "code",
   "execution_count": 13,
   "metadata": {
    "id": "NvwomEoaGAgN"
   },
   "outputs": [],
   "source": [
    "over_log = LogisticRegression().fit(over_X, over_y)\n",
    "\n",
    "under_log = LogisticRegression().fit(under_X, under_y)\n",
    "\n",
    "smote_log = LogisticRegression().fit(smote_X, smote_y)"
   ]
  },
  {
   "cell_type": "markdown",
   "metadata": {
    "id": "PeurmqI4-OoC"
   },
   "source": [
    "# 4.) Test the three models"
   ]
  },
  {
   "cell_type": "code",
   "execution_count": 14,
   "metadata": {
    "colab": {
     "base_uri": "https://localhost:8080/"
    },
    "id": "8tpSsOC0xsKs",
    "outputId": "fee6e3f0-6c06-489e-90da-59237e609bca"
   },
   "outputs": [
    {
     "data": {
      "text/plain": [
       "0.9295208618248998"
      ]
     },
     "execution_count": 14,
     "metadata": {},
     "output_type": "execute_result"
    }
   ],
   "source": [
    "over_log.score(X_test, y_test)"
   ]
  },
  {
   "cell_type": "code",
   "execution_count": 15,
   "metadata": {
    "colab": {
     "base_uri": "https://localhost:8080/"
    },
    "id": "zwq8KTmsXhFY",
    "outputId": "7c01f959-58d8-44c6-e955-39fe84168d8a"
   },
   "outputs": [
    {
     "data": {
      "text/plain": [
       "0.9267616785431513"
      ]
     },
     "execution_count": 15,
     "metadata": {},
     "output_type": "execute_result"
    }
   ],
   "source": [
    "under_log.score(X_test, y_test)"
   ]
  },
  {
   "cell_type": "code",
   "execution_count": 16,
   "metadata": {
    "colab": {
     "base_uri": "https://localhost:8080/"
    },
    "id": "DjgQ8BQM99WR",
    "outputId": "a4f3fa30-e8f3-43f4-b562-959b200488e4"
   },
   "outputs": [
    {
     "data": {
      "text/plain": [
       "0.9276134264257779"
      ]
     },
     "execution_count": 16,
     "metadata": {},
     "output_type": "execute_result"
    }
   ],
   "source": [
    "smote_log.score(X_test, y_test)"
   ]
  },
  {
   "cell_type": "code",
   "execution_count": 17,
   "metadata": {
    "id": "IF_H74Ht-RIL"
   },
   "outputs": [],
   "source": [
    "# We see SMOTE performing with higher accuracy but is ACCURACY really the best measure?"
   ]
  },
  {
   "cell_type": "markdown",
   "metadata": {
    "id": "6isBwtmL-R4p"
   },
   "source": [
    "# 5.) Which performed best in Out of Sample metrics?"
   ]
  },
  {
   "cell_type": "code",
   "execution_count": 18,
   "metadata": {
    "id": "9fwAhujT-RN4"
   },
   "outputs": [],
   "source": [
    "# Sensitivity here in credit fraud is more important as seen from last class"
   ]
  },
  {
   "cell_type": "code",
   "execution_count": 19,
   "metadata": {
    "id": "POIuy3rH-RQv"
   },
   "outputs": [],
   "source": [
    "from sklearn.metrics import confusion_matrix"
   ]
  },
  {
   "cell_type": "code",
   "execution_count": 20,
   "metadata": {
    "id": "e42UoedMK6eq"
   },
   "outputs": [],
   "source": [
    "y_true = y_test"
   ]
  },
  {
   "cell_type": "code",
   "execution_count": 21,
   "metadata": {
    "colab": {
     "base_uri": "https://localhost:8080/"
    },
    "id": "2mc_RyrHK6hX",
    "outputId": "408bb243-3c83-4337-97f5-21f57718360f"
   },
   "outputs": [
    {
     "data": {
      "text/plain": [
       "array([[77248,  5784],\n",
       "       [   91,   235]], dtype=int64)"
      ]
     },
     "execution_count": 21,
     "metadata": {},
     "output_type": "execute_result"
    }
   ],
   "source": [
    "y_pred = over_log.predict(X_test)\n",
    "cm = confusion_matrix(y_true, y_pred)\n",
    "cm"
   ]
  },
  {
   "cell_type": "code",
   "execution_count": 22,
   "metadata": {
    "colab": {
     "base_uri": "https://localhost:8080/"
    },
    "id": "xT6gNjLuK6jS",
    "outputId": "2ed847ca-c7a5-414b-d45a-2e7acadfc9d5"
   },
   "outputs": [
    {
     "name": "stdout",
     "output_type": "stream",
     "text": [
      "Over Sample Sensitivity :  0.7208588957055214\n"
     ]
    }
   ],
   "source": [
    "print(\"Over Sample Sensitivity : \", cm[1,1] /( cm[1,0] + cm[1,1]))"
   ]
  },
  {
   "cell_type": "code",
   "execution_count": 23,
   "metadata": {
    "colab": {
     "base_uri": "https://localhost:8080/"
    },
    "id": "FTHhw9P1K6lY",
    "outputId": "cadf0e8b-2b60-4ac8-fa81-275d3fab8c6f"
   },
   "outputs": [
    {
     "data": {
      "text/plain": [
       "array([[77018,  6014],\n",
       "       [   91,   235]], dtype=int64)"
      ]
     },
     "execution_count": 23,
     "metadata": {},
     "output_type": "execute_result"
    }
   ],
   "source": [
    "y_pred = under_log.predict(X_test)\n",
    "cm = confusion_matrix(y_true, y_pred)\n",
    "cm"
   ]
  },
  {
   "cell_type": "code",
   "execution_count": 24,
   "metadata": {
    "colab": {
     "base_uri": "https://localhost:8080/"
    },
    "id": "g14fgEkT-RTV",
    "outputId": "72b0902b-c2f5-46c7-c49c-83126c75c94f"
   },
   "outputs": [
    {
     "name": "stdout",
     "output_type": "stream",
     "text": [
      "Under Sample Sensitivity :  0.7208588957055214\n"
     ]
    }
   ],
   "source": [
    "print(\"Under Sample Sensitivity : \", cm[1,1] /( cm[1,0] + cm[1,1]))"
   ]
  },
  {
   "cell_type": "code",
   "execution_count": 25,
   "metadata": {
    "colab": {
     "base_uri": "https://localhost:8080/"
    },
    "id": "_iZ217d8LAR0",
    "outputId": "6d498a8f-bdd9-445d-97cc-6e4eec82574b"
   },
   "outputs": [
    {
     "data": {
      "text/plain": [
       "array([[77089,  5943],\n",
       "       [   91,   235]], dtype=int64)"
      ]
     },
     "execution_count": 25,
     "metadata": {},
     "output_type": "execute_result"
    }
   ],
   "source": [
    "y_pred = smote_log.predict(X_test)\n",
    "cm = confusion_matrix(y_true, y_pred)\n",
    "cm"
   ]
  },
  {
   "cell_type": "code",
   "execution_count": 26,
   "metadata": {
    "colab": {
     "base_uri": "https://localhost:8080/"
    },
    "id": "X5bfByOALAUk",
    "outputId": "a7071ed7-f896-4825-90f4-612a0603697a"
   },
   "outputs": [
    {
     "name": "stdout",
     "output_type": "stream",
     "text": [
      "SMOTE Sample Sensitivity :  0.7208588957055214\n"
     ]
    }
   ],
   "source": [
    "print(\"SMOTE Sample Sensitivity : \", cm[1,1] /( cm[1,0] + cm[1,1]))"
   ]
  },
  {
   "cell_type": "markdown",
   "metadata": {
    "id": "5gAU63Wc-RWN"
   },
   "source": [
    "Over Sample and SMOTE Sample"
   ]
  },
  {
   "cell_type": "markdown",
   "metadata": {
    "id": "aQa3sanl-XUk"
   },
   "source": [
    "# 6.) Pick two features and plot the two classes before and after SMOTE."
   ]
  },
  {
   "cell_type": "code",
   "execution_count": 27,
   "metadata": {},
   "outputs": [],
   "source": [
    "X_train = pd.DataFrame(X_train,columns=X.columns)\n",
    "y_train = pd.DataFrame(y_train,columns=[\"is_fraud\"])"
   ]
  },
  {
   "cell_type": "code",
   "execution_count": 28,
   "metadata": {
    "id": "MDSBmS_usbeJ"
   },
   "outputs": [],
   "source": [
    "raw_temp = pd.concat([X_train, y_train], axis =1)"
   ]
  },
  {
   "cell_type": "code",
   "execution_count": 29,
   "metadata": {
    "colab": {
     "base_uri": "https://localhost:8080/",
     "height": 465
    },
    "id": "vVaHpqf9wHj7",
    "outputId": "105a15c4-f26c-4210-f97c-4b4c3112344e"
   },
   "outputs": [
    {
     "data": {
      "image/png": "[encoded data removed]",
      "text/plain": [
       "<Figure size 640x480 with 1 Axes>"
      ]
     },
     "metadata": {},
     "output_type": "display_data"
    }
   ],
   "source": [
    "#plt.scatter(raw_temp[raw_temp[\"is_fraud\"] == 0][\"amt\"], raw_temp[raw_temp[\"is_fraud\"] == 0][\"city_pop\"])\n",
    "\n",
    "plt.scatter(raw_temp[raw_temp[\"is_fraud\"] == 1][\"amt\"], raw_temp[raw_temp[\"is_fraud\"] == 1][\"city_pop\"])\n",
    "plt.legend([\"Fraud\", \"Not Fraud\"])\n",
    "plt.xlabel(\"Amount\")\n",
    "plt.ylabel(\"Population\")\n",
    "\n",
    "plt.show()"
   ]
  },
  {
   "cell_type": "code",
   "execution_count": 30,
   "metadata": {
    "id": "YphNDj12aFhP"
   },
   "outputs": [],
   "source": [
    "smote_X_df = pd.DataFrame(smote_X,columns=X.columns)\n",
    "smote_y_df = pd.DataFrame(smote_y,columns=[\"is_fraud\"])\n",
    "raw_temp = pd.concat([smote_X_df, smote_y_df], axis =1)\n"
   ]
  },
  {
   "cell_type": "code",
   "execution_count": 31,
   "metadata": {
    "colab": {
     "base_uri": "https://localhost:8080/",
     "height": 520
    },
    "id": "G-MUv66T-RZE",
    "outputId": "a845731d-5a52-4480-d5eb-8dd58de8c3ca"
   },
   "outputs": [
    {
     "data": {
      "image/png": "[encoded data removed]",
      "text/plain": [
       "<Figure size 640x480 with 1 Axes>"
      ]
     },
     "metadata": {},
     "output_type": "display_data"
    }
   ],
   "source": [
    "#plt.scatter(raw_temp[raw_temp[\"is_fraud\"] == 0][\"amt\"], raw_temp[raw_temp[\"is_fraud\"] == 0][\"city_pop\"])\n",
    "\n",
    "plt.scatter(raw_temp[raw_temp[\"is_fraud\"] == 1][\"amt\"], raw_temp[raw_temp[\"is_fraud\"] == 1][\"city_pop\"])\n",
    "plt.legend([ \"Not Fraud\", \"Fraud\"])\n",
    "plt.xlabel(\"Amount\")\n",
    "plt.ylabel(\"Population\")\n",
    "\n",
    "plt.show()"
   ]
  },
  {
   "cell_type": "markdown",
   "metadata": {
    "id": "wjt1pnzgZcuO"
   },
   "source": [
    "# 7.) We want to compare oversampling, Undersampling and SMOTE across our 3 models (Logistic Regression, Logistic Regression Lasso and Decision Trees).\n",
    "\n",
    "# Make a dataframe that has a dual index and 9 Rows.\n",
    "# Calculate: Sensitivity, Specificity, Precision, Recall and F1 score. for out of sample data.\n",
    "# Notice any patterns across perfomance for this model. Does one totally out perform the others IE. over/under/smote or does a model perform better DT, Lasso, LR?\n",
    "# Choose what you think is the best model and why."
   ]
  },
  {
   "cell_type": "code",
   "execution_count": 32,
   "metadata": {
    "id": "0tIC3Nd1bx-N"
   },
   "outputs": [],
   "source": [
    "from sklearn.tree import DecisionTreeClassifier\n",
    "from sklearn.metrics import confusion_matrix, precision_score, recall_score, f1_score\n",
    "import pandas as pd"
   ]
  },
  {
   "cell_type": "code",
   "execution_count": 33,
   "metadata": {},
   "outputs": [],
   "source": [
    "resampling_methods = {\n",
    "    'over': RandomOverSampler(),\n",
    "    'under': RandomUnderSampler(),\n",
    "    'smote': SMOTE()\n",
    "}\n",
    "\n",
    "model_configs = {\n",
    "    \"LOG\": LogisticRegression(),\n",
    "    'LASSO': LogisticRegression(penalty = 'l1', \n",
    "                                solver = 'liblinear',\n",
    "                                C = 2),\n",
    "    'DTREE': DecisionTreeClassifier()\n",
    "}"
   ]
  },
  {
   "cell_type": "code",
   "execution_count": 34,
   "metadata": {},
   "outputs": [],
   "source": [
    "def calc_perf_metrics(y_true, y_pred):\n",
    "    tn,fp,fn,tp = confusion_matrix(y_true, y_pred).ravel()\n",
    "    sensitivity=tp/(tp+fn) \n",
    "    specificity= tn/(tn+fp)\n",
    "    precision = precision_score(y_true, y_pred)\n",
    "    recall = recall_score(y_true, y_pred)\n",
    "    f1 = f1_score(y_true, y_pred)\n",
    "    return(sensitivity, specificity, precision, recall, f1)"
   ]
  },
  {
   "cell_type": "code",
   "execution_count": 35,
   "metadata": {},
   "outputs": [],
   "source": [
    "trained_models = {}\n",
    "results = []"
   ]
  },
  {
   "cell_type": "code",
   "execution_count": 36,
   "metadata": {},
   "outputs": [
    {
     "name": "stderr",
     "output_type": "stream",
     "text": [
      "D:\\anaconda\\Lib\\site-packages\\sklearn\\utils\\validation.py:1184: DataConversionWarning: A column-vector y was passed when a 1d array was expected. Please change the shape of y to (n_samples, ), for example using ravel().\n",
      "  y = column_or_1d(y, warn=True)\n",
      "D:\\anaconda\\Lib\\site-packages\\sklearn\\base.py:464: UserWarning: X does not have valid feature names, but LogisticRegression was fitted with feature names\n",
      "  warnings.warn(\n",
      "D:\\anaconda\\Lib\\site-packages\\sklearn\\utils\\validation.py:1184: DataConversionWarning: A column-vector y was passed when a 1d array was expected. Please change the shape of y to (n_samples, ), for example using ravel().\n",
      "  y = column_or_1d(y, warn=True)\n",
      "D:\\anaconda\\Lib\\site-packages\\sklearn\\base.py:464: UserWarning: X does not have valid feature names, but LogisticRegression was fitted with feature names\n",
      "  warnings.warn(\n",
      "D:\\anaconda\\Lib\\site-packages\\sklearn\\base.py:464: UserWarning: X does not have valid feature names, but DecisionTreeClassifier was fitted with feature names\n",
      "  warnings.warn(\n",
      "D:\\anaconda\\Lib\\site-packages\\sklearn\\utils\\validation.py:1184: DataConversionWarning: A column-vector y was passed when a 1d array was expected. Please change the shape of y to (n_samples, ), for example using ravel().\n",
      "  y = column_or_1d(y, warn=True)\n",
      "D:\\anaconda\\Lib\\site-packages\\sklearn\\base.py:464: UserWarning: X does not have valid feature names, but LogisticRegression was fitted with feature names\n",
      "  warnings.warn(\n",
      "D:\\anaconda\\Lib\\site-packages\\sklearn\\utils\\validation.py:1184: DataConversionWarning: A column-vector y was passed when a 1d array was expected. Please change the shape of y to (n_samples, ), for example using ravel().\n",
      "  y = column_or_1d(y, warn=True)\n",
      "D:\\anaconda\\Lib\\site-packages\\sklearn\\base.py:464: UserWarning: X does not have valid feature names, but LogisticRegression was fitted with feature names\n",
      "  warnings.warn(\n",
      "D:\\anaconda\\Lib\\site-packages\\sklearn\\base.py:464: UserWarning: X does not have valid feature names, but DecisionTreeClassifier was fitted with feature names\n",
      "  warnings.warn(\n",
      "D:\\anaconda\\Lib\\site-packages\\sklearn\\utils\\validation.py:1184: DataConversionWarning: A column-vector y was passed when a 1d array was expected. Please change the shape of y to (n_samples, ), for example using ravel().\n",
      "  y = column_or_1d(y, warn=True)\n",
      "D:\\anaconda\\Lib\\site-packages\\sklearn\\base.py:464: UserWarning: X does not have valid feature names, but LogisticRegression was fitted with feature names\n",
      "  warnings.warn(\n",
      "D:\\anaconda\\Lib\\site-packages\\sklearn\\utils\\validation.py:1184: DataConversionWarning: A column-vector y was passed when a 1d array was expected. Please change the shape of y to (n_samples, ), for example using ravel().\n",
      "  y = column_or_1d(y, warn=True)\n",
      "D:\\anaconda\\Lib\\site-packages\\sklearn\\base.py:464: UserWarning: X does not have valid feature names, but LogisticRegression was fitted with feature names\n",
      "  warnings.warn(\n",
      "D:\\anaconda\\Lib\\site-packages\\sklearn\\base.py:464: UserWarning: X does not have valid feature names, but DecisionTreeClassifier was fitted with feature names\n",
      "  warnings.warn(\n"
     ]
    }
   ],
   "source": [
    "for resample_key, resampler in resampling_methods.items():\n",
    "    resample_X, resample_y = resampler.fit_resample(X_train,y_train)\n",
    "   \n",
    "    for model_key, model in model_configs.items():\n",
    "        conbined_key = f'{resample_key}_{model_key}'\n",
    "        \n",
    "        m = model.fit(resample_X, resample_y)\n",
    "        \n",
    "        trained_models[conbined_key] = m\n",
    "        \n",
    "        y_pred = m.predict(X_test)\n",
    "       \n",
    "        sensitivity,specificity,precision,recall,f1 = calc_perf_metrics(y_true, y_pred)\n",
    "        \n",
    "        results.append({'Model': conbined_key,\n",
    "                       \"Sensitivity\": sensitivity,\n",
    "                       'specificity':specificity,\n",
    "                       'precision':precision,\n",
    "                       'recall':recall,\n",
    "                       'f1':f1})\n",
    "        "
   ]
  },
  {
   "cell_type": "code",
   "execution_count": 37,
   "metadata": {},
   "outputs": [],
   "source": [
    "results_df = pd.DataFrame(results)"
   ]
  },
  {
   "cell_type": "code",
   "execution_count": 38,
   "metadata": {},
   "outputs": [
    {
     "data": {
      "text/html": [
       "<div>\n",
       "<style scoped>\n",
       "    .dataframe tbody tr th:only-of-type {\n",
       "        vertical-align: middle;\n",
       "    }\n",
       "\n",
       "    .dataframe tbody tr th {\n",
       "        vertical-align: top;\n",
       "    }\n",
       "\n",
       "    .dataframe thead th {\n",
       "        text-align: right;\n",
       "    }\n",
       "</style>\n",
       "<table border=\"1\" class=\"dataframe\">\n",
       "  <thead>\n",
       "    <tr style=\"text-align: right;\">\n",
       "      <th></th>\n",
       "      <th></th>\n",
       "      <th>Sensitivity</th>\n",
       "      <th>specificity</th>\n",
       "      <th>precision</th>\n",
       "      <th>recall</th>\n",
       "      <th>f1</th>\n",
       "    </tr>\n",
       "    <tr>\n",
       "      <th>resample</th>\n",
       "      <th>model</th>\n",
       "      <th></th>\n",
       "      <th></th>\n",
       "      <th></th>\n",
       "      <th></th>\n",
       "      <th></th>\n",
       "    </tr>\n",
       "  </thead>\n",
       "  <tbody>\n",
       "    <tr>\n",
       "      <th rowspan=\"3\" valign=\"top\">over</th>\n",
       "      <th>LOG</th>\n",
       "      <td>0.720859</td>\n",
       "      <td>0.930870</td>\n",
       "      <td>0.039331</td>\n",
       "      <td>0.720859</td>\n",
       "      <td>0.074591</td>\n",
       "    </tr>\n",
       "    <tr>\n",
       "      <th>LASSO</th>\n",
       "      <td>0.720859</td>\n",
       "      <td>0.930930</td>\n",
       "      <td>0.039363</td>\n",
       "      <td>0.720859</td>\n",
       "      <td>0.074651</td>\n",
       "    </tr>\n",
       "    <tr>\n",
       "      <th>DTREE</th>\n",
       "      <td>0.601227</td>\n",
       "      <td>0.998675</td>\n",
       "      <td>0.640523</td>\n",
       "      <td>0.601227</td>\n",
       "      <td>0.620253</td>\n",
       "    </tr>\n",
       "    <tr>\n",
       "      <th rowspan=\"3\" valign=\"top\">under</th>\n",
       "      <th>LOG</th>\n",
       "      <td>0.720859</td>\n",
       "      <td>0.917983</td>\n",
       "      <td>0.033357</td>\n",
       "      <td>0.720859</td>\n",
       "      <td>0.063763</td>\n",
       "    </tr>\n",
       "    <tr>\n",
       "      <th>LASSO</th>\n",
       "      <td>0.720859</td>\n",
       "      <td>0.917128</td>\n",
       "      <td>0.033024</td>\n",
       "      <td>0.720859</td>\n",
       "      <td>0.063155</td>\n",
       "    </tr>\n",
       "    <tr>\n",
       "      <th>DTREE</th>\n",
       "      <td>0.960123</td>\n",
       "      <td>0.943528</td>\n",
       "      <td>0.062575</td>\n",
       "      <td>0.960123</td>\n",
       "      <td>0.117492</td>\n",
       "    </tr>\n",
       "    <tr>\n",
       "      <th rowspan=\"3\" valign=\"top\">smote</th>\n",
       "      <th>LOG</th>\n",
       "      <td>0.720859</td>\n",
       "      <td>0.928943</td>\n",
       "      <td>0.038305</td>\n",
       "      <td>0.720859</td>\n",
       "      <td>0.072744</td>\n",
       "    </tr>\n",
       "    <tr>\n",
       "      <th>LASSO</th>\n",
       "      <td>0.720859</td>\n",
       "      <td>0.928919</td>\n",
       "      <td>0.038292</td>\n",
       "      <td>0.720859</td>\n",
       "      <td>0.072722</td>\n",
       "    </tr>\n",
       "    <tr>\n",
       "      <th>DTREE</th>\n",
       "      <td>0.726994</td>\n",
       "      <td>0.992774</td>\n",
       "      <td>0.283154</td>\n",
       "      <td>0.726994</td>\n",
       "      <td>0.407567</td>\n",
       "    </tr>\n",
       "  </tbody>\n",
       "</table>\n",
       "</div>"
      ],
      "text/plain": [
       "                Sensitivity  specificity  precision    recall        f1\n",
       "resample model                                                         \n",
       "over     LOG       0.720859     0.930870   0.039331  0.720859  0.074591\n",
       "         LASSO     0.720859     0.930930   0.039363  0.720859  0.074651\n",
       "         DTREE     0.601227     0.998675   0.640523  0.601227  0.620253\n",
       "under    LOG       0.720859     0.917983   0.033357  0.720859  0.063763\n",
       "         LASSO     0.720859     0.917128   0.033024  0.720859  0.063155\n",
       "         DTREE     0.960123     0.943528   0.062575  0.960123  0.117492\n",
       "smote    LOG       0.720859     0.928943   0.038305  0.720859  0.072744\n",
       "         LASSO     0.720859     0.928919   0.038292  0.720859  0.072722\n",
       "         DTREE     0.726994     0.992774   0.283154  0.726994  0.407567"
      ]
     },
     "execution_count": 38,
     "metadata": {},
     "output_type": "execute_result"
    }
   ],
   "source": [
    "#split the model name into two columns\n",
    "results_df[['resample','model']] = results_df['Model'].str.split('_', expand=True)\n",
    "\n",
    "#reset a dual index for dataframe\n",
    "results_df.set_index(['resample','model'], inplace=True)\n",
    "results_df.drop('Model', axis=1, inplace=True)\n",
    "results_df"
   ]
  },
  {
   "cell_type": "code",
   "execution_count": 39,
   "metadata": {},
   "outputs": [
    {
     "data": {
      "text/plain": [
       "Text(0.5, 1.0, 'Performance plot')"
      ]
     },
     "execution_count": 39,
     "metadata": {},
     "output_type": "execute_result"
    },
    {
     "data": {
      "image/png": "[encoded data removed]",
      "text/plain": [
       "<Figure size 1000x500 with 1 Axes>"
      ]
     },
     "metadata": {},
     "output_type": "display_data"
    }
   ],
   "source": [
    "results_df_final = results_df\n",
    "results_df_final.plot(kind='bar', figsize=(10,5))\n",
    "plt.title('Performance plot')"
   ]
  },
  {
   "cell_type": "code",
   "execution_count": 40,
   "metadata": {},
   "outputs": [
    {
     "name": "stdout",
     "output_type": "stream",
     "text": [
      "Holdout Sensitivity: 0.5635179153094463\n",
      "Holdout Specificity: 0.9984467375468086\n",
      "Holdout Precesion: 0.5728476821192053\n",
      "Holdout Recall: 0.5635179153094463\n",
      "Holdout F-1: 0.568144499178982\n"
     ]
    }
   ],
   "source": [
    "clf = DecisionTreeClassifier(random_state = 42)\n",
    "\n",
    "clf.fit(over_X, over_y)\n",
    "\n",
    "y_pred = clf.predict(X_holdout)\n",
    "\n",
    "sensitivity,specificity,precision,recall,f1 = calc_perf_metrics(y_holdout, y_pred)\n",
    "\n",
    "print(f\"Holdout Sensitivity: {sensitivity}\")\n",
    "print(f\"Holdout Specificity: {specificity}\")\n",
    "print(f\"Holdout Precesion: {precision}\")\n",
    "print(f\"Holdout Recall: {recall}\")\n",
    "print(f\"Holdout F-1: {f1}\")"
   ]
  },
  {
   "cell_type": "markdown",
   "metadata": {},
   "source": [
    "* Sensitivity: The Decision Tree (DTREE) model using the under-sampling strategy has the highest sensitivity score, indicating that it is the most effective at detecting positive cases.\n",
    "\n",
    "* Specificity: The Decision Tree model has consistently high specificity across all sampling strategies, particularly over-sampling, showing that it is very good at detecting negative cases.\n",
    "\n",
    "* Precision: The Decision Tree model with over-sampling has the best precision score, indicating that it produces a larger ratio of true positives among all positive findings.\n",
    "\n",
    "* Recall: Recall is consistently strong across all models and resampling approaches, with Decision Tree under under-sampling outperforming marginally.\n",
    "\n",
    "* F1 Score: The F1 score strikes a balance between precision and recall. The Decision Tree with Oversampling has the greatest F1 score, indicating a strong mix of precision and recall."
   ]
  },
  {
   "cell_type": "markdown",
   "metadata": {},
   "source": [
    "##### I would choose Decision Tree model under the under-samp;ing model, because we are trying to do credit card fraud detection here, the priority is sensitivity, the model I choose has high sensitivity. make sure we dont miss any fraud."
   ]
  },
  {
   "cell_type": "code",
   "execution_count": null,
   "metadata": {},
   "outputs": [],
   "source": []
  }
 ],
 "metadata": {
  "colab": {
   "provenance": []
  },
  "kernelspec": {
   "display_name": "Python 3 (ipykernel)",
   "language": "python",
   "name": "python3"
  },
  "language_info": {
   "codemirror_mode": {
    "name": "ipython",
    "version": 3
   },
   "file_extension": ".py",
   "mimetype": "text/x-python",
   "name": "python",
   "nbconvert_exporter": "python",
   "pygments_lexer": "ipython3",
   "version": "3.11.4"
  }
 },
 "nbformat": 4,
 "nbformat_minor": 1
}
